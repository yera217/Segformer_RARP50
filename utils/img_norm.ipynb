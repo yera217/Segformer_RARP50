{
 "cells": [
  {
   "attachments": {},
   "cell_type": "markdown",
   "metadata": {},
   "source": [
    "## Try to find mean and std of the dataset"
   ]
  },
  {
   "cell_type": "code",
   "execution_count": 12,
   "metadata": {},
   "outputs": [
    {
     "name": "stdout",
     "output_type": "stream",
     "text": [
      "mean:  [60.99641042 26.03402802 26.96294992]\n",
      "std :  [43.8721898  30.58696675 33.15588164]\n"
     ]
    }
   ],
   "source": [
    "import glob\n",
    "import numpy as np\n",
    "from PIL import Image\n",
    "\n",
    "root_dir = '/media/deep/Transcend/sar-rarp-dataset/traindata/video_1.zip/'\n",
    "rgb_dir = 'rgb/'\n",
    "\n",
    "cnt = 0\n",
    "pixel_mean = []\n",
    "pixel_std = []\n",
    "for rgb_name in glob.glob(root_dir + rgb_dir + '*.png'):\n",
    "    img_seg = Image.open(rgb_name)\n",
    "    img_seg = np.array(img_seg.convert('RGB'), dtype=float)\n",
    "    img_seg = img_seg.reshape((-1,3))\n",
    "    pixel_mean.append(np.mean(img_seg, axis=0))\n",
    "    pixel_std.append(np.std(img_seg, axis=0))\n",
    "\n",
    "pixel_mean = np.array(pixel_mean)\n",
    "pixel_std = np.array(pixel_std)\n",
    "\n",
    "pixel_mean = np.mean(pixel_mean, axis=0)\n",
    "pixel_std = np.mean(pixel_std, axis=0)\n",
    "\n",
    "print(\"mean: \", pixel_mean)\n",
    "print(\"std : \", pixel_std)"
   ]
  }
 ],
 "metadata": {
  "kernelspec": {
   "display_name": "dl2023",
   "language": "python",
   "name": "python3"
  },
  "language_info": {
   "codemirror_mode": {
    "name": "ipython",
    "version": 3
   },
   "file_extension": ".py",
   "mimetype": "text/x-python",
   "name": "python",
   "nbconvert_exporter": "python",
   "pygments_lexer": "ipython3",
   "version": "3.8.16"
  },
  "orig_nbformat": 4
 },
 "nbformat": 4,
 "nbformat_minor": 2
}
